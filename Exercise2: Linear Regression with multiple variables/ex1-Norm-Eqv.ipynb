{
 "cells": [
  {
   "cell_type": "markdown",
   "metadata": {},
   "source": [
    "# <center>Метод нормальных уравнений. Normal Equation.</center>\n",
    "# $$\\theta=(X^{T}X)^{-1}X^{T}y$$"
   ]
  },
  {
   "cell_type": "code",
   "execution_count": 1,
   "metadata": {},
   "outputs": [],
   "source": [
    "import pandas as pd\n",
    "import numpy as np\n",
    "from numpy.linalg import inv\n",
    "\n",
    "import os\n",
    "os.chdir('/home/tim/02_ML')"
   ]
  },
  {
   "cell_type": "code",
   "execution_count": 2,
   "metadata": {},
   "outputs": [],
   "source": [
    "def prepareData(data, n):\n",
    "\n",
    "    # добавим фиктивную размерность x_0 = 1 для каждого наблюдения, чтобы решать линейную модель в векторном виде\n",
    "    data.insert(0, 'Ones', 1)\n",
    "   \n",
    "    # пусть x - датафрейм наблюдений и признаков (включая фиктивную единичную колонку слева);\n",
    "    # пусть y - объясняемая (или целевая) переменная;.\n",
    "    x = data.iloc[:, 0:n+1]\n",
    "    y = data.iloc[:, n+1:n+2]\n",
    "\n",
    "    # преобразование x и y (датафреймов) в матрицы;\n",
    "    # Theta is a vector [n + 1 x 1] and Theta Transpose is a vector [1 x n+1],\n",
    "    # where n is the number of features.\n",
    "    x = np.matrix(x.values)\n",
    "    y = np.matrix(y.values)\n",
    "    theta = np.matrix(np.zeros((n+1, 1)))\n",
    "    return x, y, theta\n"
   ]
  },
  {
   "cell_type": "code",
   "execution_count": 3,
   "metadata": {},
   "outputs": [],
   "source": [
    "def normalEquation(x, y):\n",
    "\n",
    "    theta = np.dot(np.dot(inv(np.dot(x.T, x)), x.T), y)\n",
    "    return theta"
   ]
  },
  {
   "cell_type": "code",
   "execution_count": 4,
   "metadata": {},
   "outputs": [
    {
     "data": {
      "text/plain": [
       "[-3.895780878311869, 1.1930336441895943]"
      ]
     },
     "execution_count": 4,
     "metadata": {},
     "output_type": "execute_result"
    }
   ],
   "source": [
    "# Решение первой задачи \"линейная регрессия с одной переменной\" \n",
    "# Нет необходимости осуществлять нормализацию данных!\n",
    "data1 = pd.read_csv('ex1data1.txt', names=['Population', 'Profit'])\n",
    "\n",
    "# Get the number of features.\n",
    "n = len(data1.columns)-1 # subtract the target column\n",
    "\n",
    "x, y, theta = prepareData(data1, n)\n",
    "\n",
    "theta = normalEquation(x, y)\n",
    "\n",
    "theta_f = list(theta.flat)\n",
    "theta_f\n"
   ]
  },
  {
   "cell_type": "code",
   "execution_count": 5,
   "metadata": {},
   "outputs": [
    {
     "name": "stdout",
     "output_type": "stream",
     "text": [
      "Целевая функция: Profit =  -3.895780878311869  +  1.1930336441895943  * Population\n",
      "В городе с населением 35,000 средний доход семьи равен:  2798.3687635171163\n",
      "В городе с населением 70,000 средний доход семьи равен:  44554.546310152924\n"
     ]
    }
   ],
   "source": [
    "# Итоговый ответ задачи\n",
    "# Прогноз доходов семей при населении 35,000 и 70,000.\n",
    "\n",
    "print(\"Целевая функция: Profit = \",theta_f[0], \" + \",theta_f[1], \" * Population\")\n",
    "print(\"В городе с населением 35,000 средний доход семьи равен: \",((theta_f[0] + theta_f[1] * 3.5)*10000))\n",
    "print(\"В городе с населением 70,000 средний доход семьи равен: \",((theta_f[0] + theta_f[1] * 7.0)*10000))"
   ]
  },
  {
   "cell_type": "code",
   "execution_count": 6,
   "metadata": {},
   "outputs": [
    {
     "data": {
      "text/plain": [
       "[89597.90954279575, 139.21067401762548, -8738.019112327616]"
      ]
     },
     "execution_count": 6,
     "metadata": {},
     "output_type": "execute_result"
    }
   ],
   "source": [
    "# Решение второй задачи \"линейная регрессия с множественной переменной\" \n",
    "# Нет необходимости осуществлять нормализацию данных!\n",
    "\n",
    "data2 = pd.read_csv('ex1data2.txt', names=['Size', 'Bedrooms', 'Price'])\n",
    "\n",
    "n = len(data2.columns)-1\n",
    "\n",
    "x, y, theta = prepareData(data2, n)\n",
    "\n",
    "theta = normalEquation(x, y)\n",
    "\n",
    "theta_f = list(theta.flat)\n",
    "theta_f"
   ]
  },
  {
   "cell_type": "code",
   "execution_count": 7,
   "metadata": {},
   "outputs": [
    {
     "name": "stdout",
     "output_type": "stream",
     "text": [
      "Целевая функция: Стоимость дома =  89597.90954279575  +  139.21067401762548  * Size  +  -8738.019112327616  * Bedrooms\n",
      "Cтоимость дома с 3-мя спальнями и размером 1650 sq.ft. равна:  293081.4643348949\n"
     ]
    }
   ],
   "source": [
    "# Итоговый ответ задачи\n",
    "# Прогноз стоимости дома с 3-мя спальнями и размером 1650 sq.ft.\n",
    "\n",
    "print(\"Целевая функция: Стоимость дома = \",theta_f[0], \" + \",theta_f[1], \" * Size\", \" + \",theta_f[2], \" * Bedrooms\")\n",
    "print(\"Cтоимость дома с 3-мя спальнями и размером 1650 sq.ft. равна: \",(theta_f[0] + theta_f[1] * 1650 + theta_f[2] * 3))\n"
   ]
  }
 ],
 "metadata": {
  "kernelspec": {
   "display_name": "Python 3",
   "language": "python",
   "name": "python3"
  },
  "language_info": {
   "codemirror_mode": {
    "name": "ipython",
    "version": 3
   },
   "file_extension": ".py",
   "mimetype": "text/x-python",
   "name": "python",
   "nbconvert_exporter": "python",
   "pygments_lexer": "ipython3",
   "version": "3.7.3"
  }
 },
 "nbformat": 4,
 "nbformat_minor": 2
}
